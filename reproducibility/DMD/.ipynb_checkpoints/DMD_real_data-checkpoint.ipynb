{
 "cells": [
  {
   "cell_type": "code",
   "execution_count": null,
   "metadata": {},
   "outputs": [],
   "source": [
    "%run ../../cpch_source.py"
   ]
  },
  {
   "cell_type": "code",
   "execution_count": null,
   "metadata": {},
   "outputs": [],
   "source": [
    "rpy2.robjects.numpy2ri.activate()"
   ]
  },
  {
   "cell_type": "code",
   "execution_count": null,
   "metadata": {},
   "outputs": [],
   "source": [
    "#install adaFilter to you can use it in Python\n",
    "#un-comment out commented lines when running for first time\n",
    "#utils = rpackages.importr('utils')\n",
    "#utils.chooseCRANmirror(ind=1)\n",
    "packnames = ('devtools')\n",
    "#utils.install_packages(StrVector(packnames))\n",
    "devtools = importr('devtools')\n",
    "install_git = devtools.install_github\n",
    "#install_git(\"jingshuw/adaFilter\", force = True)\n",
    "adaFilter = importr('adaFilter')\n",
    "af = adaFilter.adaFilter\n",
    "classical = adaFilter.ClassicalMTP"
   ]
  },
  {
   "cell_type": "code",
   "execution_count": null,
   "metadata": {},
   "outputs": [],
   "source": [
    "#change directory to where the dmd data output from DMD_data_final.R is saved\n",
    "dmd = pd.read_csv('dmd_avging.csv') "
   ]
  },
  {
   "cell_type": "code",
   "execution_count": null,
   "metadata": {},
   "outputs": [],
   "source": [
    "np.random.seed(211)"
   ]
  },
  {
   "cell_type": "code",
   "execution_count": null,
   "metadata": {},
   "outputs": [],
   "source": [
    "def run_followup(data, og_study_num, alpha):\n",
    "    '''\n",
    "    og_study_num: 1, 2, 3, or 4\n",
    "    '''\n",
    "    pvals = ['pvalue.1', 'pvalue.2', 'pvalue.3', 'pvalue.4']\n",
    "    ts = ['ts.1', 'ts.2', 'ts.3', 'ts.4']\n",
    "    pval_str = 'pvalue.' + str(og_study_num)\n",
    "    #perform BH on chosen \"original\" study\n",
    "    rej = mt.multipletests(data[pval_str], alpha, method = 'fdr_bh')[0]\n",
    "    data_follow = data[rej]\n",
    "    print(data_follow.shape[0])\n",
    "    #pick out p-values from remaining studies\n",
    "    pvals.remove(pval_str)\n",
    "    XX_pvals =  np.array(data_follow[pvals])\n",
    "    ts.remove('ts.' + str(og_study_num))\n",
    "    XX = np.array(data_follow[ts])\n",
    "    #store num rejections for each value of r\n",
    "    cpch_fisher_storey, cpch_fisher_bh = [], []\n",
    "    fisher_storey, fisher_bh, fisher_dhh, fisher_sdhh = [], [], [], []\n",
    "    adafilter = []\n",
    "    for r in np.arange(2, 4, 1):\n",
    "        #cPCH-based methods\n",
    "        cpch_f = cpch(XX, 3, r, f_fisher, norm.pdf, norm.cdf, truncnorm.rvs, 100000)\n",
    "        cpch_fisher_bh.append(sum(mt.multipletests(cpch_f, alpha, method = 'fdr_bh')[0]))\n",
    "        cpch_fisher_storey.append(sum(storey(cpch_f, alpha)))\n",
    "\n",
    "        #fisher-based methods\n",
    "        nr, nc = XX_pvals.shape\n",
    "        Br = ro.r.matrix(XX_pvals, nrow=nr, ncol=nc)\n",
    "        fisher_results = classical(Br, r = r, alpha = alpha, method = \"Fisher\")\n",
    "        fisher_pvals = np.array(list(pd.DataFrame(fisher_results).to_numpy()[1, :]))\n",
    "        s_tau = fisher_pvals[fisher_pvals <= 0.1]\n",
    "        dhh_pvals = s_tau/0.1\n",
    "        fisher_dhh.append(sum(mt.multipletests(dhh_pvals, alpha, method = 'fdr_bh')[0]))\n",
    "        fisher_bh.append(sum(mt.multipletests(fisher_pvals, alpha, method = 'fdr_bh')[0]))\n",
    "        fisher_storey.append(sum(storey(fisher_pvals, alpha)))\n",
    "        fisher_sdhh.append(sum(storey(dhh_pvals, 0.05)))\n",
    "        \n",
    "        #adafilter\n",
    "        ada_results = af(Br, r = r, alpha = alpha)\n",
    "        ada_decision = pd.DataFrame(ada_results).to_numpy()[:,0]\n",
    "        adafilter.append(sum(ada_decision))\n",
    "        \n",
    "    rejections = [cpch_fisher_storey, cpch_fisher_bh, fisher_storey, fisher_bh, fisher_dhh, fisher_sdhh, adafilter]\n",
    "    print(\"cPCH-Fisher-Storey & \" + str(rejections[0][0]) + \" & \" + str(rejections[0][1]) + ' \\\\\\\\')\n",
    "    print(\"cPCH-Fisher-BH & \" + str(rejections[1][0]) + \" & \" + str(rejections[1][1]) + ' \\\\\\\\')\n",
    "    print(\"Fisher-Storey & \" + str(rejections[2][0]) + \" & \" + str(rejections[2][1]) + ' \\\\\\\\')\n",
    "    print(\"Fisher-BH & \" + str(rejections[3][0]) + \" & \" + str(rejections[3][1]) + ' \\\\\\\\')\n",
    "    print(\"Fisher-DHH & \" + str(rejections[4][0]) + \" & \" + str(rejections[4][1]) + ' \\\\\\\\')\n",
    "    print(\"Fisher-sDHH & \" + str(rejections[5][0]) + \" & \" + str(rejections[5][1]) + ' \\\\\\\\')\n",
    "    print(\"adaFilter & \" + str(rejections[6][0]) + \" & \" + str(rejections[6][1]) + ' \\\\\\\\')\n",
    "\n",
    "    return(rejections)"
   ]
  },
  {
   "cell_type": "code",
   "execution_count": null,
   "metadata": {},
   "outputs": [],
   "source": [
    "rejection_1 = run_followup(dmd, 1, 0.1)"
   ]
  },
  {
   "cell_type": "code",
   "execution_count": null,
   "metadata": {},
   "outputs": [],
   "source": [
    "rejection_2 = run_followup(dmd, 2, 0.1)"
   ]
  },
  {
   "cell_type": "code",
   "execution_count": null,
   "metadata": {},
   "outputs": [],
   "source": [
    "rejection_3 = run_followup(dmd, 3, 0.1)"
   ]
  },
  {
   "cell_type": "code",
   "execution_count": null,
   "metadata": {},
   "outputs": [],
   "source": [
    "rejection_4 = run_followup(dmd, 4, 0.1)"
   ]
  },
  {
   "cell_type": "code",
   "execution_count": null,
   "metadata": {},
   "outputs": [],
   "source": [
    "mean_rej = np.mean(np.array([rejection_1, rejection_2, rejection_3, rejection_4]), axis = 0)\n",
    "mean_rej"
   ]
  },
  {
   "cell_type": "code",
   "execution_count": null,
   "metadata": {},
   "outputs": [],
   "source": [
    "#get avg number of rejections across all 4 pseudo-studies\n",
    "mean_rejections = np.mean(np.array([rejection_1, rejection_2, rejection_3, rejection_4]), axis = 0)\n",
    "print('r = 2 & ' + str(mean_rej[0][0]) + \" & \" + str(mean_rej[1][0]) + \" & \" + str(mean_rej[2][0]) + \" & \" + str(mean_rej[3][0])  + \" & \" + str(mean_rej[4][0])  + \" & \" + str(mean_rej[5][0])  + \" & \" + str(mean_rej[6][0])  + ' \\\\\\\\')\n",
    "print('r = 3 & ' + str(mean_rej[0][1]) + \" & \" + str(mean_rej[1][1]) + \" & \" + str(mean_rej[2][1]) + \" & \" + str(mean_rej[3][1])  + \" & \" + str(mean_rej[4][1])  + \" & \" + str(mean_rej[5][1])  + \" & \" + str(mean_rej[6][1])  + ' \\\\\\\\')\n"
   ]
  },
  {
   "cell_type": "code",
   "execution_count": null,
   "metadata": {},
   "outputs": [],
   "source": [
    "# #get list of genes that were selected by cPCH using study 3\n",
    "def get_cpch_rejections(og_study_num, alpha): \n",
    "    r = 3\n",
    "    pvals = ['pvalue.1', 'pvalue.2', 'pvalue.3', 'pvalue.4']\n",
    "    ts = ['ts.1', 'ts.2', 'ts.3', 'ts.4']\n",
    "    pval_str = 'pvalue.' + str(og_study_num)\n",
    "    #perform BH on chosen \"original\" study\n",
    "    rej = mt.multipletests(dmd[pval_str], alpha, method = 'fdr_bh')[0]\n",
    "    data_follow = dmd[rej]\n",
    "    #pick out p-values from remaining studies\n",
    "    pvals.remove(pval_str)\n",
    "    XX_pvals =  np.array(data_follow[pvals])\n",
    "    ts.remove('ts.' + str(og_study_num))\n",
    "    XX = np.array(data_follow[ts])\n",
    "    #cpch-based methods\n",
    "    cpch_f = cpch(XX, 3, 3, f_fisher, norm.pdf, norm.cdf, truncnorm.rvs, 100000)\n",
    "    data_follow['cpch_f_s_rej'] = storey(cpch_f, alpha)\n",
    "    data_follow['cpchfpval'] = cpch_f\n",
    "    rej_genes = data_follow[data_follow['cpch_f_s_rej'] == True].sort_values('Gene.symbol')['Gene.symbol']\n",
    "    return rej_genes, data_follow"
   ]
  },
  {
   "cell_type": "code",
   "execution_count": null,
   "metadata": {},
   "outputs": [],
   "source": [
    "rej_genes_1, data_follow_1 = get_cpch_rejections(1, 0.1)\n",
    "rej_genes_2, data_follow_2 = get_cpch_rejections(2, 0.1)\n",
    "rej_genes_3, data_follow_3 = get_cpch_rejections(3, 0.1)\n",
    "rej_genes_4, data_follow_4 = get_cpch_rejections(4, 0.1)"
   ]
  },
  {
   "cell_type": "code",
   "execution_count": null,
   "metadata": {},
   "outputs": [],
   "source": [
    "#find genes rejected by all 4 pseudo-follow-up studies \n",
    "from functools import reduce\n",
    "genes = reduce(np.intersect1d, (rej_genes_1, rej_genes_2, rej_genes_3, rej_genes_4))"
   ]
  },
  {
   "cell_type": "code",
   "execution_count": null,
   "metadata": {},
   "outputs": [],
   "source": [
    "cpch_rej_3_full = data_follow_3[data_follow_3['cpch_f_s_rej'] == True].sort_values('Gene.symbol')\n",
    "cpch_rej_3 = cpch_rej_3_full.sort_values('cpchfpval').iloc[:20,:]"
   ]
  },
  {
   "cell_type": "code",
   "execution_count": null,
   "metadata": {},
   "outputs": [],
   "source": [
    "#download gene annotations that tell you about gene function\n",
    "#set to directory where gene annotations are located\n",
    "gpl246 = pd.read_csv(\"GPL246_annot.csv\", sep = \"\\t\")\n",
    "gpl8300 = pd.read_csv(\"GPL8300_annot.csv\", sep = \"\\t\")\n",
    "gpl96 = pd.read_csv(\"GPL96_annot.csv\", sep = \"\\t\")\n",
    "#gpl246 = gpl246.sort_values('Gene symbol')\n",
    "final_gene_data = pd.concat([gpl96, gpl246, gpl8300], axis = 0).sort_values('Gene symbol')\n",
    "# gpl96 <- gpl96[order(gpl96.ID), ]\n",
    "selected_genes_3 = final_gene_data[final_gene_data['Gene symbol'].isin(cpch_rej_3['Gene.symbol'])].drop_duplicates(subset=['Gene symbol'])\n",
    "selected_genes_3 = selected_genes_3.merge(cpch_rej_3, left_on ='Gene symbol', right_on = 'Gene.symbol' )\n",
    "selected_genes_3 = selected_genes_3[['Gene symbol', 'cpchfpval', 'GO:Process']].sort_values('Gene symbol')\n",
    "selected_genes_3.columns = ['genesymbol', 'cpchfpval', 'function']\n",
    "selected_genes_3['cpchfpval'] = np.round(selected_genes_3['cpchfpval'], 5)"
   ]
  },
  {
   "cell_type": "code",
   "execution_count": null,
   "metadata": {},
   "outputs": [],
   "source": [
    "def polish_annotations(annotation):\n",
    "    fxn = annotation.split('///')[:2]\n",
    "    return ('/'.join(fxn))\n",
    "\n",
    "polish_annotations = np.vectorize(polish_annotations)\n",
    "new_annotations = polish_annotations(np.array(selected_genes_3['function']))\n",
    "selected_genes_3['function'] = new_annotations\n",
    "#set to directory where gene annotations are located\n",
    "selected_genes_3.to_csv('follow_up_3_short.csv', index= False)"
   ]
  },
  {
   "cell_type": "code",
   "execution_count": null,
   "metadata": {},
   "outputs": [],
   "source": [
    "selected_genes_3"
   ]
  },
  {
   "cell_type": "code",
   "execution_count": null,
   "metadata": {},
   "outputs": [],
   "source": [
    "def run_followup_2study_filter(data, og_study_nums, alpha):\n",
    "    '''\n",
    "    og_study_nums: list of 2 values in [1, 2, 3, 4]\n",
    "    '''\n",
    "    pvals = ['pvalue.1', 'pvalue.2', 'pvalue.3', 'pvalue.4']\n",
    "    ts = ['ts.1', 'ts.2', 'ts.3', 'ts.4']\n",
    "    pval_str_1 = 'pvalue.' + str(og_study_nums[0])\n",
    "    pval_str_2 = 'pvalue.' + str(og_study_nums[1])\n",
    "    data_filtered = data[[pval_str_1, pval_str_2]]\n",
    "    #perform maxp on filtered data\n",
    "    nr, nc = np.array(data_filtered).shape\n",
    "    Br = ro.r.matrix(np.array(data_filtered), nrow=nr, ncol=nc)\n",
    "    fisher_results = classical(Br, r = 2, alpha = alpha, method = \"Fisher\")\n",
    "    fisher_rejections = np.array(list(pd.DataFrame(fisher_results).to_numpy()[0, :]))\n",
    "    data_follow = data[fisher_rejections]\n",
    "    print(data_follow.shape[0])\n",
    "\n",
    "    #pick out p-values from remaining studies\n",
    "    pvals.remove(pval_str_1)\n",
    "    pvals.remove(pval_str_2)\n",
    "    XX_pvals =  np.array(data_follow[pvals])\n",
    "    ts.remove('ts.' + str(og_study_nums[0]))\n",
    "    ts.remove('ts.' + str(og_study_nums[1]))\n",
    "    XX = np.array(data_follow[ts])\n",
    "    r = 2\n",
    "    #cpch-based methods\n",
    "    cpch_f = cpch(XX, 2, r, f_fisher, norm.pdf, norm.cdf, truncnorm.rvs, 100000)\n",
    "    cpch_fisher_bh = (sum(mt.multipletests(cpch_f, alpha, method = 'fdr_bh')[0]))\n",
    "    cpch_fisher_storey = (sum(storey(cpch_f, alpha)))\n",
    "\n",
    "    #fisher-based methods\n",
    "    nr, nc = XX_pvals.shape\n",
    "    Br = ro.r.matrix(XX_pvals, nrow=nr, ncol=nc)\n",
    "    fisher_results = classical(Br, r = 2, alpha = alpha, method = \"Fisher\")\n",
    "    fisher_pvals = np.array(list(pd.DataFrame(fisher_results).to_numpy()[1, :]))\n",
    "    s_tau = fisher_pvals[fisher_pvals <= 0.1]\n",
    "    dhh_pvals = s_tau/0.1\n",
    "    fisher_dhh = (sum(mt.multipletests(dhh_pvals, alpha, method = 'fdr_bh')[0]))\n",
    "    fisher_bh = (sum(mt.multipletests(fisher_pvals, alpha, method = 'fdr_bh')[0]))\n",
    "    fisher_storey = (sum(storey(fisher_pvals, alpha)))\n",
    "    fisher_sdhh = (sum(storey(dhh_pvals, 0.05)))\n",
    "\n",
    "    #adafilter\n",
    "    ada_results = af(Br, r = 2, alpha = alpha)\n",
    "    ada_decision = pd.DataFrame(ada_results).to_numpy()[:,0]\n",
    "    adafilter = (sum(ada_decision))\n",
    "\n",
    "    rejections = [cpch_fisher_storey, cpch_fisher_bh, fisher_storey, fisher_bh, fisher_dhh, fisher_sdhh, int(adafilter)]\n",
    "\n",
    "    return(rejections)"
   ]
  },
  {
   "cell_type": "code",
   "execution_count": null,
   "metadata": {},
   "outputs": [],
   "source": [
    "studies = [1, 2, 3, 4]\n",
    "combinations = list(itertools.combinations(studies, 2))\n",
    "follow2 = []\n",
    "for comb in combinations:\n",
    "     follow2.append(run_followup_2study_filter(dmd, comb, 0.05))"
   ]
  },
  {
   "cell_type": "code",
   "execution_count": null,
   "metadata": {},
   "outputs": [],
   "source": [
    "mean_rej_2 = np.round(np.mean(np.array(follow2), axis = 0), 2)\n",
    "print('r = 2 & ' + str(mean_rej_2[0]) + \" & \" + str(mean_rej_2[1]) + \" & \" + str(mean_rej_2[2]) + \" & \" + str(mean_rej_2[3])  + \" & \" + str(mean_rej_2[4])  + \" & \" + str(mean_rej_2[5])  + \" & \" + str(mean_rej_2[6])  + ' \\\\\\\\')\n"
   ]
  },
  {
   "cell_type": "code",
   "execution_count": null,
   "metadata": {},
   "outputs": [],
   "source": [
    "studies = [1, 2, 3, 4]\n",
    "combinations = list(itertools.combinations(studies, 2))\n",
    "follow2 = []\n",
    "for comb in combinations:\n",
    "     follow2.append(run_followup_2study_filter(dmd, comb, 0.1))"
   ]
  },
  {
   "cell_type": "markdown",
   "metadata": {},
   "source": [
    "## Average Power"
   ]
  },
  {
   "cell_type": "code",
   "execution_count": null,
   "metadata": {},
   "outputs": [],
   "source": [
    "#compute p-values for r = 2, 3, 4 across all 4 studies\n",
    "def calc_avg_power(XX, XX_pvals, n, alpha):\n",
    "    avg_pow_cpch_f, avg_pow_cpch_s, avg_pow_cpch_b = [], [], []\n",
    "    avg_pow_f, avg_pow_s, avg_pow_b = [], [], []\n",
    "    se_cpch_f, se_cpch_s, se_cpch_b = [], [], []\n",
    "    se_f, se_s, se_b = [], [], []\n",
    "    for r in np.arange(2, n+1, 1):\n",
    "        cpch_f = cpch(XX, n, r, f_fisher, norm.pdf, norm.cdf, truncnorm.rvs, 10000)\n",
    "        cpch_s = cpch(XX, n, r, f_simes, norm.pdf, norm.cdf, truncnorm.rvs, 10000)\n",
    "        cpch_b = cpch(XX, n, r, f_bonferroni, norm.pdf, norm.cdf, truncnorm.rvs, 10000)\n",
    "        #look at what is rejected at nominal level 0.05\n",
    "        avg_pow_cpch_f.append(np.mean(cpch_f <= alpha))\n",
    "        avg_pow_cpch_s.append(np.mean(cpch_s <= alpha))\n",
    "        avg_pow_cpch_b.append(np.mean(cpch_b <= alpha))\n",
    "        se_cpch_f.append(np.std(cpch_f <= alpha,  ddof = 1)/np.sqrt(len(cpch_f)))\n",
    "        se_cpch_s.append(np.std(cpch_s <= alpha,  ddof = 1)/np.sqrt(len(cpch_s)))\n",
    "        se_cpch_b.append(np.std(cpch_b <= alpha,  ddof = 1)/np.sqrt(len(cpch_b)))\n",
    "        #fisher-based methods\n",
    "        nr, nc = XX_pvals.shape\n",
    "        Br = ro.r.matrix(XX_pvals, nrow=nr, ncol=nc)\n",
    "        fisher_results = classical(Br, r, alpha = alpha, method = \"Fisher\")\n",
    "        fisher_pvals = np.array(list(pd.DataFrame(fisher_results).to_numpy()[1, :]))\n",
    "        simes_results = classical(Br, r, alpha = alpha, method = \"Simes\")\n",
    "        simes_pvals = np.array(list(pd.DataFrame(simes_results).to_numpy()[1, :]))\n",
    "        bon_results = classical(Br, r, alpha = alpha, method = \"Bonferroni\")\n",
    "        bon_pvals = np.array(list(pd.DataFrame(bon_results).to_numpy()[1, :]))\n",
    "        #look at what is rejected at nominal level 0.05\n",
    "        avg_pow_f.append(np.mean(fisher_pvals <= alpha))\n",
    "        avg_pow_s.append(np.mean(simes_pvals <= alpha))\n",
    "        avg_pow_b.append(np.mean(bon_pvals <= alpha))\n",
    "        se_f.append(np.std(fisher_pvals <= alpha,  ddof = 1)/np.sqrt(len(fisher_pvals)))\n",
    "        se_s.append(np.std(simes_pvals <= alpha,  ddof = 1)/np.sqrt(len(simes_pvals)))\n",
    "        se_b.append(np.std(bon_pvals <= alpha,  ddof = 1)/np.sqrt(len(bon_pvals)))\n",
    "    return ([avg_pow_cpch_f, avg_pow_cpch_s, avg_pow_cpch_b, avg_pow_f, avg_pow_s, avg_pow_b],[se_cpch_f, se_cpch_s, se_cpch_b,se_f, se_s, se_b])"
   ]
  },
  {
   "cell_type": "code",
   "execution_count": null,
   "metadata": {},
   "outputs": [],
   "source": [
    "XX = np.array(dmd[['ts.1', 'ts.2', 'ts.3', 'ts.4']])\n",
    "XX_pvals = np.array(dmd[['pvalue.1', 'pvalue.2', 'pvalue.3', 'pvalue.4']])\n",
    "#Vmm(XX, 4, 2, f_fisher, norm.pdf, norm.cdf, truncnorm.rvs, 1000)"
   ]
  },
  {
   "cell_type": "code",
   "execution_count": null,
   "metadata": {},
   "outputs": [],
   "source": [
    "power, ses = calc_avg_power(XX, XX_pvals, 4, 0.05)"
   ]
  },
  {
   "cell_type": "code",
   "execution_count": null,
   "metadata": {},
   "outputs": [],
   "source": [
    "power_rounded = np.round(np.array(power)*100, 1)\n",
    "print('r = 2 & ' + str(power_rounded[0][0]) + \" & \" + str(power_rounded[1][0]) + \" & \" + str(power_rounded[2][0]) + \" & \" + str(power_rounded[3][0])  + \" & \" + str(power_rounded[4][0])  + \" & \" + str(power_rounded[5][0])  + ' \\\\\\\\')\n",
    "print('r = 3 & ' + str(power_rounded[0][1]) + \" & \" + str(power_rounded[1][1]) + \" & \" + str(power_rounded[2][1]) + \" & \" + str(power_rounded[3][1])  + \" & \" + str(power_rounded[4][1])  + \" & \" + str(power_rounded[5][1])    + ' \\\\\\\\')\n",
    "#when r=m, all three combining functions will produce same p-values\n",
    "print('r = 4 & ' + str(power_rounded[0][2]) + \" & \" + str(power_rounded[0][2]) + \" & \" + str(power_rounded[0][2]) + \" & \" + str(power_rounded[3][2])  + \" & \" + str(power_rounded[3][2])  + \" & \" + str(power_rounded[3][2])   + ' \\\\\\\\')"
   ]
  },
  {
   "cell_type": "markdown",
   "metadata": {},
   "source": [
    "## Run Standard Multiple PCH Testing Analysis"
   ]
  },
  {
   "cell_type": "code",
   "execution_count": null,
   "metadata": {},
   "outputs": [],
   "source": [
    "def run_standard(data, alpha):\n",
    "    pvals = ['pvalue.1', 'pvalue.2', 'pvalue.3', 'pvalue.4']\n",
    "    ts = ['ts.1', 'ts.2', 'ts.3', 'ts.4']\n",
    "    XX_pvals =  np.array(data[pvals])\n",
    "    XX = np.array(data[ts])\n",
    "    #store num rejections for each value of r\n",
    "    cpch_fisher_storey, cpch_fisher_bh, cpch_simes_storey, cpch_simes_bh, cpch_bon_storey, cpch_bon_bh = [],[],[],[],[],[]\n",
    "    fisher_storey, fisher_bh = [], []\n",
    "    simes_storey, simes_bh = [], []\n",
    "    bon_storey, bon_bh = [], []\n",
    "    fisher_dhh, fisher_sdhh = [],[]\n",
    "    simes_dhh, simes_sdhh = [],[]\n",
    "    bon_dhh, bon_sdhh = [],[]\n",
    "    adafilter = []\n",
    "    for r in np.arange(2, 5, 1):\n",
    "        print(r)\n",
    "        #mm-based methods\n",
    "        cpch_f = cpch(XX, 4, r, f_fisher, norm.pdf, norm.cdf, truncnorm.rvs, 100000)\n",
    "        cpch_fisher_bh.append(sum(mt.multipletests(cpch_f, alpha, method = 'fdr_bh')[0]))\n",
    "        cpch_fisher_storey.append(sum(storey(cpch_f, alpha)))\n",
    "        print('mm_fisher_methods_done')\n",
    "        #mm-based methods\n",
    "        cpch_s = cpch(XX, 4, r, f_simes, norm.pdf, norm.cdf, truncnorm.rvs, 100000)\n",
    "        cpch_simes_bh.append(sum(mt.multipletests(cpch_s, alpha, method = 'fdr_bh')[0]))\n",
    "        cpch_simes_storey.append(sum(storey(cpch_s, alpha)))\n",
    "        print('mm_simes_methods_done')\n",
    "        #mm-based methods\n",
    "        cpch_b = cpch(XX, 4, r, f_bonferroni, norm.pdf, norm.cdf, truncnorm.rvs, 100000)\n",
    "        cpch_bon_bh.append(sum(mt.multipletests(cpch_b, alpha, method = 'fdr_bh')[0]))\n",
    "        cpch_bon_storey.append(sum(storey(cpch_b, alpha)))\n",
    "        print('mm_bon_methods_done')\n",
    "        #fisher-based methods\n",
    "        nr, nc = XX_pvals.shape\n",
    "        Br = ro.r.matrix(XX_pvals, nrow=nr, ncol=nc)\n",
    "        fisher_results = classical(Br, r = r, alpha = alpha, method = \"Fisher\")\n",
    "        fisher_pvals = np.array(list(pd.DataFrame(fisher_results).to_numpy()[1, :]))\n",
    "        simes_results = classical(Br, r = r, alpha = alpha, method = \"Simes\")\n",
    "        simes_pvals = np.array(list(pd.DataFrame(fisher_results).to_numpy()[1, :]))\n",
    "        bon_results = classical(Br, r = r, alpha = alpha, method = \"Bonferroni\")\n",
    "        bon_pvals = np.array(list(pd.DataFrame(fisher_results).to_numpy()[1, :]))\n",
    "        \n",
    "        f_tau = fisher_pvals[fisher_pvals <= 0.1]\n",
    "        dhh_f_pvals = f_tau/0.1\n",
    "        fisher_dhh.append(sum(mt.multipletests(dhh_f_pvals, alpha, method = 'fdr_bh')[0]))\n",
    "        fisher_sdhh.append(sum(storey(dhh_f_pvals, 0.1)))\n",
    "        \n",
    "        s_tau = simes_pvals[simes_pvals <= 0.1]\n",
    "        dhh_s_pvals = s_tau/0.1\n",
    "        simes_dhh.append(sum(mt.multipletests(dhh_s_pvals, alpha, method = 'fdr_bh')[0]))\n",
    "        simes_sdhh.append(sum(storey(dhh_s_pvals, 0.1)))\n",
    "        \n",
    "        b_tau = bon_pvals[bon_pvals <= 0.1]\n",
    "        dhh_b_pvals = b_tau/0.1\n",
    "        bon_dhh.append(sum(mt.multipletests(dhh_b_pvals, alpha, method = 'fdr_bh')[0]))\n",
    "        bon_sdhh.append(sum(storey(dhh_b_pvals, 0.1)))   \n",
    "        \n",
    "        fisher_bh.append(sum(mt.multipletests(fisher_pvals, alpha, method = 'fdr_bh')[0]))\n",
    "        fisher_storey.append(sum(storey(fisher_pvals, alpha)))\n",
    "        simes_bh.append(sum(mt.multipletests(simes_pvals, alpha, method = 'fdr_bh')[0]))\n",
    "        simes_storey.append(sum(storey(simes_pvals, alpha)))\n",
    "        bon_bh.append(sum(mt.multipletests(bon_pvals, alpha, method = 'fdr_bh')[0]))\n",
    "        bon_storey.append(sum(storey(bon_pvals, alpha)))\n",
    "\n",
    "        \n",
    "        #adafilter\n",
    "        ada_results = af(Br, r = r, alpha = alpha)\n",
    "        ada_decision = pd.DataFrame(ada_results).to_numpy()[:,0]\n",
    "        adafilter.append(sum(ada_decision))\n",
    "        \n",
    "    rejections = [cpch_fisher_storey, cpch_fisher_bh, fisher_storey, fisher_bh, \n",
    "                  cpch_simes_storey, cpch_simes_bh, simes_storey, simes_bh,\n",
    "                  cpch_bon_storey, cpch_bon_bh, bon_storey, bon_bh,\n",
    "                  fisher_dhh, fisher_sdhh, simes_dhh, simes_sdhh, bon_dhh, bon_sdhh,\n",
    "                  adafilter]\n",
    "    print(\"cPCH-Fisher-Storey & \" + str(rejections[0][0]) + \" & \" + str(rejections[0][1]) + \" & \" + str(rejections[0][2]) +' \\\\\\\\')\n",
    "    print(\"cPCH-Fisher-BH & \" + str(rejections[1][0]) + \" & \" + str(rejections[1][1]) + \" & \" + str(rejections[1][2]) + ' \\\\\\\\')\n",
    "    print(\"Fisher-Storey & \" + str(rejections[2][0]) + \" & \" + str(rejections[2][1]) +\" & \" + str(rejections[2][2]) + ' \\\\\\\\')\n",
    "    print(\"Fisher-BH & \" + str(rejections[3][0]) + \" & \" + str(rejections[3][1]) + \" & \" + str(rejections[3][2]) +' \\\\\\\\')\n",
    "    print(\"cPCH-Simes-Storey & \" + str(rejections[4][0]) + \" & \" + str(rejections[4][1]) +\" & \" + str(rejections[4][2]) + ' \\\\\\\\')\n",
    "    print(\"cPCH-Simes-BH & \" + str(rejections[5][0]) + \" & \" + str(rejections[5][1]) + \" & \" + str(rejections[5][2]) +' \\\\\\\\')\n",
    "    print(\"Simes-Storey & \" + str(rejections[6][0]) + \" & \" + str(rejections[6][1]) + \" & \" + str(rejections[6][2]) +' \\\\\\\\')\n",
    "    print(\"Simes-BH & \" + str(rejections[7][0]) + \" & \" + str(rejections[7][1]) + \" & \" + str(rejections[7][2]) +' \\\\\\\\')\n",
    "    print(\"cPCH-Bonferroni-Storey & \" + str(rejections[8][0]) + \" & \" + str(rejections[8][1]) +\" & \" + str(rejections[8][2]) + ' \\\\\\\\')\n",
    "    print(\"cPCH-Bonferroni-BH & \" + str(rejections[9][0]) + \" & \" + str(rejections[9][1]) + \" & \" + str(rejections[9][2]) +' \\\\\\\\')\n",
    "    print(\"Bonferroni-Storey & \" + str(rejections[10][0]) + \" & \" + str(rejections[10][1]) + \" & \" + str(rejections[10][2]) +' \\\\\\\\')\n",
    "    print(\"Bonferroni-BH & \" + str(rejections[11][0]) + \" & \" + str(rejections[11][1]) + \" & \" + str(rejections[11][2]) +' \\\\\\\\')\n",
    "    print(\"Fisher-DHH & \" + str(rejections[12][0]) + \" & \" + str(rejections[12][1]) +  \" & \" + str(rejections[12][2]) + ' \\\\\\\\')\n",
    "    print(\"Fisher-sDHH & \" + str(rejections[13][0]) + \" & \" + str(rejections[13][1]) +  \" & \" + str(rejections[13][2]) + ' \\\\\\\\')\n",
    "    print(\"Simes-DHH & \" + str(rejections[14][0]) + \" & \" + str(rejections[14][1]) +  \" & \" + str(rejections[14][2]) + ' \\\\\\\\')\n",
    "    print(\"Simes-sDHH & \" + str(rejections[15][0]) + \" & \" + str(rejections[15][1]) +  \" & \" + str(rejections[15][2]) + ' \\\\\\\\')\n",
    "    print(\"Bonferroni-DHH & \" + str(rejections[16][0]) + \" & \" + str(rejections[16][1]) +  \" & \" + str(rejections[16][2]) + ' \\\\\\\\')\n",
    "    print(\"Bonferroni-sDHH & \" + str(rejections[17][0]) + \" & \" + str(rejections[17][1]) +  \" & \" + str(rejections[17][2]) + ' \\\\\\\\')\n",
    "    print(\"adaFilter & \" + str(rejections[18][0]) + \" & \" + str(rejections[18][1]) + \" & \" + str(rejections[18][2]) +' \\\\\\\\')\n",
    "\n",
    "    return(rejections)"
   ]
  },
  {
   "cell_type": "code",
   "execution_count": null,
   "metadata": {},
   "outputs": [],
   "source": [
    "run_standard(dmd, 0.1)"
   ]
  },
  {
   "cell_type": "code",
   "execution_count": null,
   "metadata": {},
   "outputs": [],
   "source": []
  }
 ],
 "metadata": {
  "kernelspec": {
   "display_name": "Python 3",
   "language": "python",
   "name": "python3"
  },
  "language_info": {
   "codemirror_mode": {
    "name": "ipython",
    "version": 3
   },
   "file_extension": ".py",
   "mimetype": "text/x-python",
   "name": "python",
   "nbconvert_exporter": "python",
   "pygments_lexer": "ipython3",
   "version": "3.7.3"
  }
 },
 "nbformat": 4,
 "nbformat_minor": 2
}
