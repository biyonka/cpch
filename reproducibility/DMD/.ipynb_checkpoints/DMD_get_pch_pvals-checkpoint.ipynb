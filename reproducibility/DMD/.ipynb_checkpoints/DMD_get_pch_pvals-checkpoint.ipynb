{
 "cells": [
  {
   "cell_type": "code",
   "execution_count": null,
   "metadata": {},
   "outputs": [],
   "source": [
    "%run cpch_source.py"
   ]
  },
  {
   "cell_type": "code",
   "execution_count": null,
   "metadata": {},
   "outputs": [],
   "source": [
    "#change directory to where the dmd data output from DMD_data_final.R is saved\n",
    "dmd = pd.read_csv('PATH/dmd_followup.csv') "
   ]
  },
  {
   "cell_type": "code",
   "execution_count": null,
   "metadata": {},
   "outputs": [],
   "source": [
    "r = 3\n",
    "pvals = ['pvalue.1', 'pvalue.3', 'pvalue.4']\n",
    "ts = ['ts.1', 'ts.3', 'ts.4']\n",
    "XX = np.array(dmd[ts])"
   ]
  },
  {
   "cell_type": "code",
   "execution_count": null,
   "metadata": {},
   "outputs": [],
   "source": [
    "cpch_3_3 = cpch(XX, 3, 3, f_simes, norm.pdf, norm.cdf, truncnorm.rvs, 100000)"
   ]
  },
  {
   "cell_type": "code",
   "execution_count": null,
   "metadata": {},
   "outputs": [],
   "source": [
    "cpch_3_2 = cpch(XX, 3, 2, f_simes, norm.pdf, norm.cdf, truncnorm.rvs, 100000)"
   ]
  },
  {
   "cell_type": "code",
   "execution_count": null,
   "metadata": {},
   "outputs": [],
   "source": [
    "rpy2.robjects.numpy2ri.activate()\n",
    "packnames = ('devtools')\n",
    "#utils.install_packages(StrVector(packnames))\n",
    "devtools = importr('devtools')\n",
    "install_git = devtools.install_github\n",
    "#install_git(\"jingshuw/adaFilter\", force = True)\n",
    "adaFilter = importr('adaFilter')\n",
    "af = adaFilter.adaFilter\n",
    "classical = adaFilter.ClassicalMTP\n",
    "#get fisher p-vals\n",
    "\n",
    "XX_pvals = np.array(dmd[pvals])\n",
    "\n",
    "alpha=0.1\n",
    "nr, nc = XX_pvals.shape\n",
    "Br = ro.r.matrix(XX_pvals, nrow=nr, ncol=nc)\n",
    "fisher_results_3_2 = classical(Br, r = 2, alpha = alpha, method = \"Fisher\")\n",
    "fisher_pvals_3_2 = np.array(list(pd.DataFrame(fisher_results_3_2).to_numpy()[1, :]))\n",
    "fisher_results_3_3 = classical(Br, r = 3, alpha = alpha, method = \"Fisher\")\n",
    "fisher_pvals_3_3 = np.array(list(pd.DataFrame(fisher_results_3_3).to_numpy()[1, :]))\n",
    "# fisher_results_3_2 = classical(Br, r = 2, alpha = alpha, method = \"Simes\")\n",
    "# fisher_pvals_3_2 = np.array(list(pd.DataFrame(fisher_results_3_2).to_numpy()[1, :]))\n",
    "# fisher_results_3_3 = classical(Br, r = 3, alpha = alpha, method = \"Simes\")\n",
    "# fisher_pvals_3_3 = np.array(list(pd.DataFrame(fisher_results_3_3).to_numpy()[1, :]))"
   ]
  },
  {
   "cell_type": "code",
   "execution_count": null,
   "metadata": {},
   "outputs": [],
   "source": [
    "cpch_pvals_dmd = pd.DataFrame({'cpch_3_2':cpch_3_2, \n",
    "             'cpch_3_3':cpch_3_3})\n",
    "#cpch_pvals_dmd"
   ]
  },
  {
   "cell_type": "code",
   "execution_count": null,
   "metadata": {},
   "outputs": [],
   "source": [
    "fisher_pvals_dmd = pd.DataFrame({'simes_pvals_3_2':fisher_pvals_3_2, \n",
    "             'simes_pvals_3_3':fisher_pvals_3_3})\n",
    "#fisher_pvals_dmd"
   ]
  },
  {
   "cell_type": "code",
   "execution_count": null,
   "metadata": {},
   "outputs": [],
   "source": [
    "fisher_pvals_dmd.to_csv('~/Documents/Research/cpch/Data/simes_pvals_dmd_followup_screen.csv', index=False)"
   ]
  },
  {
   "cell_type": "code",
   "execution_count": null,
   "metadata": {},
   "outputs": [],
   "source": [
    "cpch_pvals_dmd.to_csv('~/Documents/Research/cpch/Data/cpch_simes_pvals_dmd_followup_screen.csv', index=False)"
   ]
  },
  {
   "cell_type": "markdown",
   "metadata": {},
   "source": [
    "# Average Power"
   ]
  },
  {
   "cell_type": "code",
   "execution_count": null,
   "metadata": {},
   "outputs": [],
   "source": [
    "#compute p-values for r = 2, 3, 4 across all 4 studies\n",
    "def calc_avg_power(XX, XX_pvals, n, alpha):\n",
    "    avg_pow_cpch_f, avg_pow_cpch_s, avg_pow_cpch_b = [], [], []\n",
    "    avg_pow_f, avg_pow_s, avg_pow_b = [], [], []\n",
    "    se_cpch_f, se_cpch_s, se_cpch_b = [], [], []\n",
    "    se_f, se_s, se_b = [], [], []\n",
    "    for r in np.arange(2, n+1, 1):\n",
    "        cpch_f = cpch(XX, n, r, f_fisher, norm.pdf, norm.cdf, truncnorm.rvs, 10000)\n",
    "        cpch_s = cpch(XX, n, r, f_simes, norm.pdf, norm.cdf, truncnorm.rvs, 10000)\n",
    "        #look at what is rejected at nominal level 0.05\n",
    "        avg_pow_cpch_f.append(np.mean(cpch_f <= alpha))\n",
    "        avg_pow_cpch_s.append(np.mean(cpch_s <= alpha))\n",
    "       # avg_pow_cpch_b.append(np.mean(cpch_b <= alpha))\n",
    "        se_cpch_f.append(np.std(cpch_f <= alpha,  ddof = 1)/np.sqrt(len(cpch_f)))\n",
    "        se_cpch_s.append(np.std(cpch_s <= alpha,  ddof = 1)/np.sqrt(len(cpch_s)))\n",
    "\n",
    "        #fisher-based methods\n",
    "        nr, nc = XX_pvals.shape\n",
    "        Br = ro.r.matrix(XX_pvals, nrow=nr, ncol=nc)\n",
    "        fisher_results = classical(Br, r, alpha = alpha, method = \"Fisher\")\n",
    "        fisher_pvals = np.array(list(pd.DataFrame(fisher_results).to_numpy()[1, :]))\n",
    "        simes_results = classical(Br, r, alpha = alpha, method = \"Simes\")\n",
    "        simes_pvals = np.array(list(pd.DataFrame(simes_results).to_numpy()[1, :]))\n",
    "\n",
    "        avg_pow_f.append(np.mean(fisher_pvals <= alpha))\n",
    "        avg_pow_s.append(np.mean(simes_pvals <= alpha))\n",
    "\n",
    "        se_f.append(np.std(fisher_pvals <= alpha,  ddof = 1)/np.sqrt(len(fisher_pvals)))\n",
    "        se_s.append(np.std(simes_pvals <= alpha,  ddof = 1)/np.sqrt(len(simes_pvals)))\n",
    "\n",
    "    return ([avg_pow_cpch_f, avg_pow_cpch_s,\n",
    "             avg_pow_f, avg_pow_s\n",
    "            ],[se_cpch_f, se_cpch_s, \n",
    "               se_f, se_s\n",
    "              ])"
   ]
  },
  {
   "cell_type": "code",
   "execution_count": null,
   "metadata": {},
   "outputs": [],
   "source": [
    "XX = np.array(dmd[['ts.1', 'ts.2', 'ts.3', 'ts.4']])\n",
    "XX_pvals = np.array(dmd[['pvalue.1', 'pvalue.2', 'pvalue.3', 'pvalue.4']])"
   ]
  },
  {
   "cell_type": "code",
   "execution_count": null,
   "metadata": {},
   "outputs": [],
   "source": [
    "power, ses = calc_avg_power(XX, XX_pvals, 4, 0.05)"
   ]
  },
  {
   "cell_type": "code",
   "execution_count": null,
   "metadata": {},
   "outputs": [],
   "source": [
    "power_rounded = np.round(np.array(power)*100, 1)\n",
    "print('r = 2 & ' + str(power_rounded[0][0]) + \" & \" + str(power_rounded[1][0]) + \" & \" + str(power_rounded[2][0]) + \" & \" + str(power_rounded[3][0])  + ' \\\\\\\\')\n",
    "print('r = 3 & ' + str(power_rounded[0][1]) + \" & \" + str(power_rounded[1][1]) + \" & \" + str(power_rounded[2][1]) + \" & \" + str(power_rounded[3][1])  + ' \\\\\\\\')\n",
    "#when r=m, all three combining functions will produce same p-values\n",
    "print('r = 4 & ' + str(power_rounded[0][2]) + \" & \" + str(power_rounded[0][2]) + \" & \" + str(power_rounded[0][2]) + \" & \" + str(power_rounded[3][2])  + ' \\\\\\\\')"
   ]
  }
 ],
 "metadata": {
  "kernelspec": {
   "display_name": "Python 3",
   "language": "python",
   "name": "python3"
  },
  "language_info": {
   "codemirror_mode": {
    "name": "ipython",
    "version": 3
   },
   "file_extension": ".py",
   "mimetype": "text/x-python",
   "name": "python",
   "nbconvert_exporter": "python",
   "pygments_lexer": "ipython3",
   "version": "3.11.5"
  }
 },
 "nbformat": 4,
 "nbformat_minor": 2
}
