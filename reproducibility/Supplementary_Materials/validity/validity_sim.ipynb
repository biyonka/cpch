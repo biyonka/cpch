{
 "cells": [
  {
   "cell_type": "code",
   "execution_count": null,
   "metadata": {},
   "outputs": [],
   "source": [
    "%run ../../cpch_source.py\n",
    "import os\n",
    "import time"
   ]
  },
  {
   "cell_type": "code",
   "execution_count": null,
   "metadata": {},
   "outputs": [],
   "source": [
    "np.random.seed(211)\n",
    "#run script total of 3 times, for r=m=2, m=3, r=2, and r=m=3, in that order\n",
    "m = 3\n",
    "r = 2\n",
    "N = 10000\n",
    "power_iters = 100\n",
    "total_iters = 100\n",
    "mu_max = 4\n",
    "mu_step = 0.2\n",
    "alpha = 0.05"
   ]
  },
  {
   "cell_type": "code",
   "execution_count": null,
   "metadata": {},
   "outputs": [],
   "source": [
    "mu_grid = np.arange(0, mu_max + mu_step, mu_step)\n",
    "def null_mu(m, r, mu_grid):\n",
    "    '''\n",
    "    generates list of n-length arrays of unique configurations under the null using mu_grid\n",
    "    '''\n",
    "    all_prods = list(itertools.product(mu_grid, repeat = m))\n",
    "    null_cases = np.unique(np.array([sorted(i) for i in all_prods if sum(np.array(i) == 0.0) in np.arange(m-r+1, m+1, 1)]), axis = 0)\n",
    "    return(null_cases)"
   ]
  },
  {
   "cell_type": "code",
   "execution_count": null,
   "metadata": {},
   "outputs": [],
   "source": [
    "mu_grid = np.arange(0, mu_max + mu_step, mu_step)\n",
    "null_cases = null_mu(m, r, mu_grid)\n",
    "num_null_cases = len(null_cases)\n",
    "print(num_null_cases)\n",
    "def calculate_cpch(null_case, power_iters, m, r):\n",
    "    #for a given mu vector, generate data from that mu vector\n",
    "    XX = norm.rvs(null_case, scale = 1, size = (power_iters, m))\n",
    "    if m == r:\n",
    "        cpch_f = cpch(XX, m, r, f_fisher, norm.pdf, norm.cdf, truncnorm.rvs, N) \n",
    "        return (cpch_f, cpch_f, cpch_f)\n",
    "    else:\n",
    "        cpch_f = cpch(XX, m, r, f_fisher, norm.pdf, norm.cdf, truncnorm.rvs, N) \n",
    "        cpch_b = cpch(XX, m, r, f_bonferroni, norm.pdf, norm.cdf, truncnorm.rvs, N)\n",
    "        cpch_s = cpch(XX, m, r, f_simes, norm.pdf, norm.cdf, truncnorm.rvs, N) \n",
    "        return (cpch_f, cpch_s, cpch_b)"
   ]
  },
  {
   "cell_type": "code",
   "execution_count": null,
   "metadata": {},
   "outputs": [],
   "source": [
    "#save a csv for each null case\n",
    "for null_case in null_cases:\n",
    "    #change path to where you want data to be saved\n",
    "    path = 'Data/validity_analysis/m_' + str(m) + '_r_' + str(r) + '_mu_' + str(list(np.round(null_case, 3))).replace(', ', '_').replace('[', '').replace(']', '')\n",
    "    isExist = os.path.exists(path)\n",
    "    if not isExist:\n",
    "        os.mkdir(path) \n",
    "    start = time.time()\n",
    "    for iteration in np.arange(1, total_iters+1, 1):\n",
    "        np.random.seed(int(iteration * 1000 + m * 100 + r))\n",
    "        config =  'm=' + str(m) + ' , r=' + str(r) + ', locs=' + str(list(np.round(null_case, 3)))\n",
    "        cpch_f, cpch_b, cpch_s = calculate_cpch(null_case, power_iters, m, r)\n",
    "        df = pd.DataFrame({'iteration': np.repeat(iteration, power_iters)\n",
    "                  , 'm': np.repeat(m, power_iters)\n",
    "                  , 'r': np.repeat(r, power_iters)\n",
    "                  , 'mu': np.repeat(str(list(np.round(null_case, 3))), power_iters)\n",
    "                  , 'Configuration': np.repeat(config, power_iters)\n",
    "                  , \"cpch_f\": cpch_f\n",
    "                  , \"cpch_s\": cpch_s\n",
    "                  , \"cpch_b\": cpch_b})\n",
    "        df.to_csv(path + '/it_' + str(iteration) + '.csv', index = False)\n",
    "    end = time.time()\n",
    "    print (\"Null Case \" + str(null_case) + \" Completed, Time elapsed:\", (end - start)/60)"
   ]
  },
  {
   "cell_type": "code",
   "execution_count": null,
   "metadata": {},
   "outputs": [],
   "source": [
    "#write script to knit together csvs across all iterations for each case, so will have config, and p-values\n",
    "ks_f, ks_b, ks_s = [], [], []\n",
    "for null_case in null_cases:\n",
    "    path = 'Data/validity_analysis/m_' + str(m) + '_r_' + str(r) + '_mu_' + str(list(np.round(null_case, 3))).replace(', ', '_').replace('[', '').replace(']', '')\n",
    "    li = []\n",
    "    for filename in os.listdir(path):\n",
    "        df = pd.read_csv(path + '/' + filename, index_col = None, header=0)\n",
    "        li.append(df)\n",
    "    df_final = pd.concat(li, axis = 0, ignore_index = True)\n",
    "    df_final.to_csv('Data/final_data/m_' + str(m) + '_r_' + str(r) + '_mu_' + str(list(np.round(null_case, 3))).replace(', ', '_').replace('[', '').replace(']', '') + '.csv',\n",
    "                   index = False)\n",
    "    #get ks test statistic for each null case\n",
    "    ks_f.append(scipy.stats.kstest(df_final['cpch_f'], 'uniform')[0])\n",
    "    ks_s.append(scipy.stats.kstest(df_final['cpch_s'], 'uniform')[0])\n",
    "    ks_b.append(scipy.stats.kstest(df_final['cpch_b'], 'uniform')[0])"
   ]
  },
  {
   "cell_type": "code",
   "execution_count": null,
   "metadata": {},
   "outputs": [],
   "source": [
    "#make dataset that combines all p-values for all null configurations for a given m and r\n",
    "combined_data = []\n",
    "#change path to where you want data to be saved\n",
    "path = 'Data/final_data'\n",
    "for filename in os.listdir(path):\n",
    "    if not filename.startswith('.'):\n",
    "        df = pd.read_csv(path + '/' + filename, index_col = None, header=0)\n",
    "        combined_data.append(df)\n",
    "df_combined = pd.concat(combined_data, axis = 0, ignore_index = True).sort_values(['Configuration', 'iteration'])\n",
    "#change path to where you want data to be saved\n",
    "df_combined.to_csv('Data/combined_data_m_' + str(m) + '_r_' + str(r) + '.csv',\n",
    "                index = False)"
   ]
  },
  {
   "cell_type": "code",
   "execution_count": null,
   "metadata": {},
   "outputs": [],
   "source": [
    "#get ks statistics for a given m and r\n",
    "ks_data = pd.DataFrame({'ks_f': ks_f, 'ks_b': ks_b, 'ks_s': ks_s})\n",
    "ks_data.insert(0, 'm', m)\n",
    "ks_data.insert(1, 'r', r)\n",
    "ks_data.insert(2, 'mu', [str(list(np.round(null_case, 3))) for null_case in null_cases])\n",
    "#ks_data['null_case'] = null_cases\n",
    "config = ['m=' + str(m) + ' , r=' + str(r) + ', locs=' +str(list(np.round(null_case, 3))) for null_case in null_cases]\n",
    "ks_data.insert(3, 'Configuration', config)\n",
    "#change path to where you want data to be saved\n",
    "ks_data.to_csv('Data/ks_df_m_' + str(m) + '_r_' + str(r) + '.csv', index = False)"
   ]
  },
  {
   "cell_type": "code",
   "execution_count": null,
   "metadata": {},
   "outputs": [],
   "source": []
  }
 ],
 "metadata": {
  "kernelspec": {
   "display_name": "Python 3",
   "language": "python",
   "name": "python3"
  },
  "language_info": {
   "codemirror_mode": {
    "name": "ipython",
    "version": 3
   },
   "file_extension": ".py",
   "mimetype": "text/x-python",
   "name": "python",
   "nbconvert_exporter": "python",
   "pygments_lexer": "ipython3",
   "version": "3.7.3"
  }
 },
 "nbformat": 4,
 "nbformat_minor": 2
}
